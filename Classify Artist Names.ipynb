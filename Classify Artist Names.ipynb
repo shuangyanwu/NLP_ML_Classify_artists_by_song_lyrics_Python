{
 "cells": [
  {
   "cell_type": "markdown",
   "id": "dcbdbb65",
   "metadata": {},
   "source": [
    "# Project: Classify Artist Names Based on Song Lyrics \n",
    "\n",
    "## Objectives: \n",
    "* Classify the artist names based on their song lyrics using natural language processing (NLP) and machine learning (ML) techniques and pipelines.\n",
    "* Study the effect of stop words removal and stemming on model accuracy\n",
    "* Check the impact of the number of included artists on model accuracy and compare model performance\n",
    "\n",
    "## Applied Methods:\n",
    "1. **Natural Language Processing (Lyrics to Vectors)** \n",
    "* Tokenization\n",
    "* Stop Words Removal\n",
    "* Stemming\n",
    "* Bag-of-Words/Term-doc count matrix\n",
    "* IF-IDF Weight Matrix\n",
    "2. **Machine Learning Prediction Models**\n",
    "* Naive Bayes (NB)\n",
    "* Support Vector Machine (SVM)\n",
    "\n",
    "## Contents:\n",
    "1. Data Information\n",
    "2. Data Cleaning and Exploration\n",
    "3. NLP & ML Model Building - NB\n",
    "4. NLP & ML Model Building - SVM\n",
    "* Keep Stop Words\n",
    "* Remove Stop Words\n",
    "* Add Stemming\n",
    "* Grid Search \n",
    "* Test With an Unknown Lyric\n",
    "* Top-k Accuracy\n",
    "* Confusion Matrix\n",
    "* Model Performance\n",
    "5. Model Accuracy vs Number of Artists"
   ]
  },
  {
   "cell_type": "code",
   "execution_count": 4,
   "id": "e81a5736",
   "metadata": {},
   "outputs": [],
   "source": [
    "import os\n",
    "os.chdir('/Users/wushuangyan/Projects/Lyrics from Kaggle')"
   ]
  },
  {
   "cell_type": "code",
   "execution_count": 5,
   "id": "b2afd0f3",
   "metadata": {},
   "outputs": [],
   "source": [
    "import pandas as pd\n",
    "import numpy as np\n",
    "import re\n",
    "import gensim\n",
    "from langdetect import detect_langs\n",
    "from sklearn.linear_model import SGDClassifier\n",
    "import nltk\n",
    "from sklearn.model_selection import train_test_split\n",
    "import random\n",
    "\n",
    "from sklearn.feature_extraction.text import CountVectorizer\n",
    "from sklearn.feature_extraction.text import TfidfTransformer\n",
    "from sklearn.model_selection import GridSearchCV\n",
    "import sklearn.metrics as skm\n",
    "import matplotlib.pyplot as plt\n",
    "from nltk.stem.snowball import SnowballStemmer\n",
    "from sklearn.naive_bayes import MultinomialNB\n",
    "from sklearn.pipeline import Pipeline\n",
    "from sklearn.calibration import CalibratedClassifierCV\n",
    "from sklearn.metrics import top_k_accuracy_score\n",
    "from IPython.core.interactiveshell import InteractiveShell\n",
    "InteractiveShell.ast_node_interactivity = \"all\""
   ]
  },
  {
   "cell_type": "markdown",
   "id": "67f49446",
   "metadata": {},
   "source": [
    "# 1. Data Information"
   ]
  },
  {
   "cell_type": "markdown",
   "id": "265b6100",
   "metadata": {},
   "source": [
    "### Import Data"
   ]
  },
  {
   "cell_type": "code",
   "execution_count": 6,
   "id": "0d6916a5",
   "metadata": {},
   "outputs": [],
   "source": [
    "DK = pd.read_csv(\"Drake.csv\")\n",
    "LG = pd.read_csv(\"LadyGaga.csv\")\n",
    "TS = pd.read_csv(\"TaylorSwift.csv\")\n",
    "MR = pd.read_csv(\"Maroon5.csv\")\n",
    "CP = pd.read_csv(\"ColdPlay.csv\")\n",
    "AG = pd.read_csv(\"ArianaGrande.csv\")\n",
    "BY = pd.read_csv(\"Beyonce.csv\")\n",
    "BE = pd.read_csv(\"BillieEilish.csv\")\n",
    "BTS = pd.read_csv(\"BTS.csv\")\n",
    "BTS['Artist'] = 'BTS'\n",
    "CB = pd.read_csv(\"CardiB.csv\") #\n",
    "CHPU = pd.read_csv(\"CharliePuth.csv\")#\n",
    "DL = pd.read_csv(\"DuaLipa.csv\")\n",
    "ES = pd.read_csv(\"EdSheeran.csv\")\n",
    "EM = pd.read_csv(\"Eminem.csv\")\n",
    "JB = pd.read_csv(\"JustinBieber.csv\")\n",
    "KP = pd.read_csv(\"KatyPerry.csv\")\n",
    "DJK = pd.read_csv(\"Khalid.csv\") ##\n",
    "NM = pd.read_csv(\"NickiMinaj.csv\")\n",
    "PM = pd.read_csv(\"PostMalone.csv\")\n",
    "RH = pd.read_csv(\"Rihanna.csv\")\n",
    "SG = pd.read_csv(\"SelenaGomez.csv\")"
   ]
  },
  {
   "cell_type": "markdown",
   "id": "4aa6f0ae",
   "metadata": {},
   "source": [
    "### View Data"
   ]
  },
  {
   "cell_type": "code",
   "execution_count": 242,
   "id": "ea06e717",
   "metadata": {},
   "outputs": [
    {
     "name": "stdout",
     "output_type": "stream",
     "text": [
      "Data Set Example - Ed Sheeran: \n"
     ]
    },
    {
     "data": {
      "text/html": [
       "<div>\n",
       "<style scoped>\n",
       "    .dataframe tbody tr th:only-of-type {\n",
       "        vertical-align: middle;\n",
       "    }\n",
       "\n",
       "    .dataframe tbody tr th {\n",
       "        vertical-align: top;\n",
       "    }\n",
       "\n",
       "    .dataframe thead th {\n",
       "        text-align: right;\n",
       "    }\n",
       "</style>\n",
       "<table border=\"1\" class=\"dataframe\">\n",
       "  <thead>\n",
       "    <tr style=\"text-align: right;\">\n",
       "      <th></th>\n",
       "      <th>Unnamed: 0</th>\n",
       "      <th>Artist</th>\n",
       "      <th>Title</th>\n",
       "      <th>Album</th>\n",
       "      <th>Year</th>\n",
       "      <th>Date</th>\n",
       "      <th>Lyric</th>\n",
       "    </tr>\n",
       "  </thead>\n",
       "  <tbody>\n",
       "    <tr>\n",
       "      <th>0</th>\n",
       "      <td>0</td>\n",
       "      <td>Ed Sheeran</td>\n",
       "      <td>Shape of You</td>\n",
       "      <td>÷ (Divide)</td>\n",
       "      <td>2017.0</td>\n",
       "      <td>2017-01-06</td>\n",
       "      <td>the club isn't the best place to find a lover ...</td>\n",
       "    </tr>\n",
       "    <tr>\n",
       "      <th>1</th>\n",
       "      <td>1</td>\n",
       "      <td>Ed Sheeran</td>\n",
       "      <td>Perfect</td>\n",
       "      <td>÷ (Divide)</td>\n",
       "      <td>2017.0</td>\n",
       "      <td>2017-03-03</td>\n",
       "      <td>i found a love for me oh darling just dive rig...</td>\n",
       "    </tr>\n",
       "    <tr>\n",
       "      <th>...</th>\n",
       "      <td>...</td>\n",
       "      <td>...</td>\n",
       "      <td>...</td>\n",
       "      <td>...</td>\n",
       "      <td>...</td>\n",
       "      <td>...</td>\n",
       "      <td>...</td>\n",
       "    </tr>\n",
       "    <tr>\n",
       "      <th>294</th>\n",
       "      <td>294</td>\n",
       "      <td>Ed Sheeran</td>\n",
       "      <td>Shape of you -In love with the shape of you</td>\n",
       "      <td>NaN</td>\n",
       "      <td>NaN</td>\n",
       "      <td>NaN</td>\n",
       "      <td>the club isn't the best place to find a lover ...</td>\n",
       "    </tr>\n",
       "    <tr>\n",
       "      <th>295</th>\n",
       "      <td>295</td>\n",
       "      <td>Ed Sheeran</td>\n",
       "      <td>Give Me That</td>\n",
       "      <td>NaN</td>\n",
       "      <td>NaN</td>\n",
       "      <td>NaN</td>\n",
       "      <td>on a late night we were outside of a club near...</td>\n",
       "    </tr>\n",
       "  </tbody>\n",
       "</table>\n",
       "<p>296 rows × 7 columns</p>\n",
       "</div>"
      ],
      "text/plain": [
       "     Unnamed: 0      Artist                                        Title  \\\n",
       "0             0  Ed Sheeran                                 Shape of You   \n",
       "1             1  Ed Sheeran                                      Perfect   \n",
       "..          ...         ...                                          ...   \n",
       "294         294  Ed Sheeran  Shape of you -In love with the shape of you   \n",
       "295         295  Ed Sheeran                                 Give Me That   \n",
       "\n",
       "          Album    Year        Date  \\\n",
       "0    ÷ (Divide)  2017.0  2017-01-06   \n",
       "1    ÷ (Divide)  2017.0  2017-03-03   \n",
       "..          ...     ...         ...   \n",
       "294         NaN     NaN         NaN   \n",
       "295         NaN     NaN         NaN   \n",
       "\n",
       "                                                 Lyric  \n",
       "0    the club isn't the best place to find a lover ...  \n",
       "1    i found a love for me oh darling just dive rig...  \n",
       "..                                                 ...  \n",
       "294  the club isn't the best place to find a lover ...  \n",
       "295  on a late night we were outside of a club near...  \n",
       "\n",
       "[296 rows x 7 columns]"
      ]
     },
     "execution_count": 242,
     "metadata": {},
     "output_type": "execute_result"
    },
    {
     "name": "stdout",
     "output_type": "stream",
     "text": [
      "One Lyric Example - Ed Sheeran: \n"
     ]
    },
    {
     "data": {
      "text/plain": [
       "\"i found a love for me oh darling just dive right in and follow my lead well i found a girl beautiful and sweet oh i never knew you were the someone waiting for me 'cause we were just kids when we fell in love not knowing what it was i will not give you up this time but darling just kiss me slow your heart is all i own and in your eyes you're holding mine   baby i'm dancing in the dark with you between my arms barefoot on the grass listening to our favourite song when you said you looked a mess i whispered underneath my breath but you heard it darling you look perfect tonight   well i found a woman stronger than anyone i know she shares my dreams i hope that someday i'll share her home i found a love to carry more than just my secrets to carry love to carry children of our own we are still kids but we're so in love fighting against all odds i know we'll be alright this time darling just hold my hand be my girl i'll be your man i see my future in your eyes    baby i'm dancing in the dark with you between my arms barefoot on the grass listening to our favorite song when i saw you in that dress looking so beautiful i don't deserve this darling you look perfect tonight      baby i'm dancing in the dark with you between my arms barefoot on the grass listening to our favorite song i have faith in what i see now i know i have met an angel in person and she looks perfect i don't deserve this you look perfect tonight\""
      ]
     },
     "execution_count": 242,
     "metadata": {},
     "output_type": "execute_result"
    }
   ],
   "source": [
    "print(\"Data Set Example - Ed Sheeran: \")\n",
    "pd.set_option('display.max_rows', 5)\n",
    "ES\n",
    "print(\"One Lyric Example - Ed Sheeran: \")\n",
    "ES.iloc[1,6]"
   ]
  },
  {
   "cell_type": "markdown",
   "id": "1849866e",
   "metadata": {},
   "source": [
    "### Dimensions of Datasets"
   ]
  },
  {
   "cell_type": "code",
   "execution_count": 8,
   "id": "61f5e7a5",
   "metadata": {},
   "outputs": [
    {
     "name": "stdout",
     "output_type": "stream",
     "text": [
      "Dimensions of the datasets:\n",
      "Drake\n",
      "(466, 7)\n",
      "Lady Gaga\n",
      "(402, 7)\n",
      "Taylor Swift\n",
      "(479, 7)\n",
      "Maroon 5\n",
      "(197, 7)\n",
      "Coldplay\n",
      "(344, 7)\n",
      "Ariana Grande\n",
      "(308, 6)\n",
      "Beyoncé\n",
      "(406, 7)\n",
      "Billie Eilish\n",
      "(145, 7)\n",
      "BTS\n",
      "(278, 7)\n",
      "Cardi B\n",
      "(75, 7)\n",
      "Charlie Puth\n",
      "(75, 7)\n",
      "Dua Lipa\n",
      "(247, 7)\n",
      "Ed Sheeran\n",
      "(296, 7)\n",
      "Eminem\n",
      "(521, 7)\n",
      "Justin Bieber\n",
      "(348, 7)\n",
      "Katy Perry\n",
      "(325, 7)\n",
      "Khalid\n",
      "(64, 7)\n",
      "Nicki Minaj\n",
      "(323, 7)\n",
      "Post Malone\n",
      "(148, 7)\n",
      "Rihanna\n",
      "(405, 7)\n",
      "Selena Gomez\n",
      "(175, 7)\n"
     ]
    }
   ],
   "source": [
    "print (\"Dimensions of the datasets:\")\n",
    "for artist in [DK,LG,TS,MR,CP,AG,BY,BE,BTS,CB,CHPU,DL,ES,EM,JB,KP,DJK,NM,PM,RH,SG]:\n",
    "    print(artist.Artist.iat[0])\n",
    "    print(artist.shape)"
   ]
  },
  {
   "cell_type": "markdown",
   "id": "1346b16f",
   "metadata": {},
   "source": [
    "The artists Cardi B (CB), Charlie Puth (CHPU), and Khalid (DJK) have fewer than 100 songs, therefore are excluded later for further data analysis."
   ]
  },
  {
   "cell_type": "markdown",
   "id": "acb56a6e",
   "metadata": {},
   "source": [
    "# 2. Data Cleaning and Exploration"
   ]
  },
  {
   "cell_type": "markdown",
   "id": "ba5f587f",
   "metadata": {},
   "source": [
    "### Exclude Artists With < 100 Songs"
   ]
  },
  {
   "cell_type": "code",
   "execution_count": 9,
   "id": "0326b4e2",
   "metadata": {},
   "outputs": [],
   "source": [
    "artists = [DK,LG,TS,MR,CP,AG,BY,BE,BTS,DL,ES,EM,JB,KP,NM,PM,RH,SG]\n",
    "df_all = pd.concat(artists)\n",
    "\n",
    "# Data subset with artists and lyrics\n",
    "df = df_all.iloc[:,[1,6]] "
   ]
  },
  {
   "cell_type": "markdown",
   "id": "31d6a775",
   "metadata": {},
   "source": [
    "### Drop Rows With No Lyrics"
   ]
  },
  {
   "cell_type": "code",
   "execution_count": 10,
   "id": "cfca9d30",
   "metadata": {},
   "outputs": [
    {
     "name": "stdout",
     "output_type": "stream",
     "text": [
      "Missing data:\n"
     ]
    },
    {
     "data": {
      "text/plain": [
       "Artist     0\n",
       "Lyric     46\n",
       "dtype: int64"
      ]
     },
     "execution_count": 10,
     "metadata": {},
     "output_type": "execute_result"
    },
    {
     "name": "stdout",
     "output_type": "stream",
     "text": [
      "Missing data example:\n"
     ]
    },
    {
     "data": {
      "text/plain": [
       "Artist    Drake\n",
       "Lyric       NaN\n",
       "Name: 446, dtype: object"
      ]
     },
     "execution_count": 10,
     "metadata": {},
     "output_type": "execute_result"
    },
    {
     "name": "stdout",
     "output_type": "stream",
     "text": [
      "Data dimension:\n"
     ]
    },
    {
     "data": {
      "text/plain": [
       "(5767, 2)"
      ]
     },
     "execution_count": 10,
     "metadata": {},
     "output_type": "execute_result"
    }
   ],
   "source": [
    "print(\"Missing data:\")\n",
    "df.isnull().sum() # 46 rows\n",
    "\n",
    "print(\"Missing data example:\")\n",
    "df.iloc[446,:]\n",
    "\n",
    "print(\"Data dimension:\")\n",
    "df2 = df[df['Lyric'].notna()] \n",
    "df2.shape # 5767 rows left"
   ]
  },
  {
   "cell_type": "markdown",
   "id": "dfd8b040",
   "metadata": {},
   "source": [
    "### Drop Rows With Duplicate Lyrics"
   ]
  },
  {
   "cell_type": "code",
   "execution_count": 11,
   "id": "bfd74644",
   "metadata": {},
   "outputs": [
    {
     "name": "stdout",
     "output_type": "stream",
     "text": [
      "Number of rows with duplicate lyrics:\n"
     ]
    },
    {
     "data": {
      "text/plain": [
       "338"
      ]
     },
     "execution_count": 11,
     "metadata": {},
     "output_type": "execute_result"
    },
    {
     "name": "stdout",
     "output_type": "stream",
     "text": [
      "Example - duplicated lyrics:\n"
     ]
    },
    {
     "data": {
      "text/html": [
       "<div>\n",
       "<style scoped>\n",
       "    .dataframe tbody tr th:only-of-type {\n",
       "        vertical-align: middle;\n",
       "    }\n",
       "\n",
       "    .dataframe tbody tr th {\n",
       "        vertical-align: top;\n",
       "    }\n",
       "\n",
       "    .dataframe thead th {\n",
       "        text-align: right;\n",
       "    }\n",
       "</style>\n",
       "<table border=\"1\" class=\"dataframe\">\n",
       "  <thead>\n",
       "    <tr style=\"text-align: right;\">\n",
       "      <th></th>\n",
       "      <th>Artist</th>\n",
       "      <th>Lyric</th>\n",
       "    </tr>\n",
       "  </thead>\n",
       "  <tbody>\n",
       "    <tr>\n",
       "      <th>277</th>\n",
       "      <td>Coldplay</td>\n",
       "      <td>i used to rule the world seas would rise when ...</td>\n",
       "    </tr>\n",
       "    <tr>\n",
       "      <th>334</th>\n",
       "      <td>Coldplay</td>\n",
       "      <td>i used to rule the world seas would rise when ...</td>\n",
       "    </tr>\n",
       "  </tbody>\n",
       "</table>\n",
       "</div>"
      ],
      "text/plain": [
       "       Artist                                              Lyric\n",
       "277  Coldplay  i used to rule the world seas would rise when ...\n",
       "334  Coldplay  i used to rule the world seas would rise when ..."
      ]
     },
     "execution_count": 11,
     "metadata": {},
     "output_type": "execute_result"
    }
   ],
   "source": [
    "duplicate = df2[df2.Lyric.duplicated()] \n",
    "\n",
    "print (\"Number of rows with duplicate lyrics:\")\n",
    "sum(df2.Lyric.duplicated())  \n",
    "\n",
    "print (\"Example - duplicated lyrics:\")\n",
    "CP.iloc[[277,334],[1,6]] \n",
    "\n",
    "df3 = df2.drop_duplicates('Lyric')"
   ]
  },
  {
   "cell_type": "markdown",
   "id": "064f4dfe",
   "metadata": {},
   "source": [
    "### Drop Rows With Non-English Lyrics"
   ]
  },
  {
   "cell_type": "code",
   "execution_count": 12,
   "id": "4cb0428c",
   "metadata": {},
   "outputs": [
    {
     "name": "stdout",
     "output_type": "stream",
     "text": [
      "Number of english songs: 5203\n",
      "Number of non-english songs: 226\n"
     ]
    }
   ],
   "source": [
    "def get_eng_prob(text):\n",
    "    detections = detect_langs(text)\n",
    "    for detection in detections:\n",
    "        if detection.lang == 'en':\n",
    "            return detection.prob\n",
    "    return 0\n",
    "\n",
    "pd.options.mode.chained_assignment = None\n",
    "df3['en_prob'] = df3['Lyric'].map(get_eng_prob)\n",
    "print('Number of english songs: {}'.format(sum(df3['en_prob'] >= 0.5)))\n",
    "print('Number of non-english songs: {}'.format(sum(df3['en_prob'] < 0.5)))"
   ]
  },
  {
   "cell_type": "code",
   "execution_count": 244,
   "id": "f336d2a4",
   "metadata": {},
   "outputs": [
    {
     "name": "stdout",
     "output_type": "stream",
     "text": [
      "Example - Non-English lyrics:\n"
     ]
    },
    {
     "data": {
      "text/plain": [
       "'zwrotka  siedzę i patrzę jak czytasz z głową pochyloną budzę się i patrzę jakl oddychasz z zamkniętymi oczyma siedzę i oglądam ciebie zauważam wszystko co robisz i czego nie robisz jesteś tyle starszy i mądrzejszy i ja  refren  czekam przy drzwiach jak małe dziecko używam najlepsze farby na twój portret nakrywam stół wykwintnymi pierdołami i patrzę jak ty to jedynie znosisz jeśli to wszystko dzieje się w mojej głowie to powiedz mi teraz powiedz mi że mylę się jakoś wiem że moja miłość powinna być celebrowana a ty ją jedynie znosisz  zwrotka  witam cię jak zwycięzcę powracającego z pola walki pobłażliwie traktuję twoje niedyskrecje siedzę i słucham poleruję talеrze aż lśnią i błyszczą jesteś tylе starszy i mądrzejszy i ja  refren  czekam przy drzwiach jak małe dziecko używam najlepsze farby na twój portret nakrywam stół wykwintnymi pierdołami i patrzę jak ty to jedynie znosisz jeśli to wszystko dzieje się w mojej głowie to powiedz mi teraz powiedz mi że mylę się jakoś wiem że moja miłość powinna być celebrowana a ty ją jedynie znosisz   kiedy cię nie było  budowałeś inne światy gdzie byłam ja gdzie ten facet który rzucałby koce na mój drut kolczasty zrobiłam z ciebie moją świątynię mój mural moje niebo a teraz błagam o przypisy w historii twojego życia rysując serca w notce o autorze zawsze zabierałam ci za dużo miejsca i czasu zakładasz że u mnie wszystko gra ale co byś zrobił gdybym  refren  wyzwoliła sie i zostawiła cię w ruinach wzięła ten sztylet we mnie i go wyjęła zyskać twój ciężar a potem go stracić uwierz mi jestem w stanie to zrobić jeśli to wszystko dzieje się w mojej głowie to powiedz mi teraz powiedz mi że mylę się jakoś wiem że moja miłość powinna być celebrowana a ty ją jedynie znosisz   siedzę i oglądam cię'"
      ]
     },
     "execution_count": 244,
     "metadata": {},
     "output_type": "execute_result"
    }
   ],
   "source": [
    "# Non-English Lyrics Example\n",
    "print(\"Example - Non-English lyrics:\")\n",
    "non_eng = df3.loc[df3['en_prob'] < 0.5]\n",
    "non_eng.iloc[18, 1]\n",
    "\n",
    "df4 = df3.loc[df3['en_prob'] >= 0.5]"
   ]
  },
  {
   "cell_type": "code",
   "execution_count": 240,
   "id": "250d341c",
   "metadata": {},
   "outputs": [
    {
     "name": "stdout",
     "output_type": "stream",
     "text": [
      "Cleaned dataset:\n"
     ]
    },
    {
     "data": {
      "text/html": [
       "<div>\n",
       "<style scoped>\n",
       "    .dataframe tbody tr th:only-of-type {\n",
       "        vertical-align: middle;\n",
       "    }\n",
       "\n",
       "    .dataframe tbody tr th {\n",
       "        vertical-align: top;\n",
       "    }\n",
       "\n",
       "    .dataframe thead th {\n",
       "        text-align: right;\n",
       "    }\n",
       "</style>\n",
       "<table border=\"1\" class=\"dataframe\">\n",
       "  <thead>\n",
       "    <tr style=\"text-align: right;\">\n",
       "      <th></th>\n",
       "      <th>Artist</th>\n",
       "      <th>Lyric</th>\n",
       "      <th>en_prob</th>\n",
       "    </tr>\n",
       "  </thead>\n",
       "  <tbody>\n",
       "    <tr>\n",
       "      <th>0</th>\n",
       "      <td>Drake</td>\n",
       "      <td>and they wishin' and wishin' and wishin' and w...</td>\n",
       "      <td>0.999998</td>\n",
       "    </tr>\n",
       "    <tr>\n",
       "      <th>...</th>\n",
       "      <td>...</td>\n",
       "      <td>...</td>\n",
       "      <td>...</td>\n",
       "    </tr>\n",
       "    <tr>\n",
       "      <th>174</th>\n",
       "      <td>Selena Gomez</td>\n",
       "      <td>can't keep my hands to myself no matter how ha...</td>\n",
       "      <td>0.999996</td>\n",
       "    </tr>\n",
       "  </tbody>\n",
       "</table>\n",
       "<p>5203 rows × 3 columns</p>\n",
       "</div>"
      ],
      "text/plain": [
       "           Artist                                              Lyric   en_prob\n",
       "0           Drake  and they wishin' and wishin' and wishin' and w...  0.999998\n",
       "..            ...                                                ...       ...\n",
       "174  Selena Gomez  can't keep my hands to myself no matter how ha...  0.999996\n",
       "\n",
       "[5203 rows x 3 columns]"
      ]
     },
     "execution_count": 240,
     "metadata": {},
     "output_type": "execute_result"
    }
   ],
   "source": [
    "# Cleaned data\n",
    "print(\"Cleaned dataset:\")\n",
    "pd.set_option('display.max_rows', 2)\n",
    "df4\n",
    "# The lyrics are already tokenized."
   ]
  },
  {
   "cell_type": "markdown",
   "id": "8c91b7b1",
   "metadata": {},
   "source": [
    "### Number of Songs for Each Artist"
   ]
  },
  {
   "cell_type": "code",
   "execution_count": 15,
   "id": "e4392e27",
   "metadata": {},
   "outputs": [
    {
     "data": {
      "text/plain": [
       "{'Ariana Grande': 285,\n",
       " 'BTS': 136,\n",
       " 'Beyoncé': 373,\n",
       " 'Billie Eilish': 133,\n",
       " 'Coldplay': 319,\n",
       " 'Drake': 458,\n",
       " 'Dua Lipa': 205,\n",
       " 'Ed Sheeran': 277,\n",
       " 'Eminem': 500,\n",
       " 'Justin Bieber': 313,\n",
       " 'Katy Perry': 263,\n",
       " 'Lady Gaga': 352,\n",
       " 'Maroon 5': 191,\n",
       " 'Nicki Minaj': 299,\n",
       " 'Post Malone': 147,\n",
       " 'Rihanna': 356,\n",
       " 'Selena Gomez': 149,\n",
       " 'Taylor Swift': 447}"
      ]
     },
     "execution_count": 15,
     "metadata": {},
     "output_type": "execute_result"
    }
   ],
   "source": [
    "df4_gb = df4.groupby(by='Artist')\n",
    "songs = {}\n",
    "for artist_key in df4_gb['Artist'].unique():\n",
    "    artist_df = df4_gb.get_group(artist_key[0])\n",
    "    songs[artist_key[0]] = artist_df.shape[0]    \n",
    "\n",
    "songs    "
   ]
  },
  {
   "cell_type": "markdown",
   "id": "bdd0145f",
   "metadata": {},
   "source": [
    "### Plot - # of Songs for Artists"
   ]
  },
  {
   "cell_type": "code",
   "execution_count": 16,
   "id": "171a3cdb",
   "metadata": {
    "scrolled": true
   },
   "outputs": [
    {
     "data": {
      "image/png": "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\n",
      "text/plain": [
       "<Figure size 864x360 with 1 Axes>"
      ]
     },
     "metadata": {
      "needs_background": "light"
     },
     "output_type": "display_data"
    }
   ],
   "source": [
    "c = ['navy', 'orange', 'green', 'red', 'purple', 'brown', 'pink', 'grey','blue', 'black']\n",
    "plt.rcParams[\"figure.figsize\"] = (12,5)\n",
    "plt.bar(songs.keys(), songs.values(), color = c, width = 0.8)\n",
    "plt.xlabel(\"Artists\", font={'size' : 15}, fontweight='bold')\n",
    "plt.ylabel(\"No. of Songs\", font={'size' : 15}, fontweight='bold')\n",
    "plt.title(\"No. of Songs for each artist\", font={'size' : 20}, fontweight='bold')\n",
    "plt.xticks(rotation = 45, font={'size' : 10})\n",
    "plt.yticks(font={'size' : 12})\n",
    "plt.savefig(\"Number of songs.png\", dpi=100)\n",
    "plt.show();"
   ]
  },
  {
   "cell_type": "markdown",
   "id": "1668e79b",
   "metadata": {},
   "source": [
    "# 3. NLP & ML Model Building - NB"
   ]
  },
  {
   "cell_type": "markdown",
   "id": "e0127142",
   "metadata": {},
   "source": [
    "### Split train/test "
   ]
  },
  {
   "cell_type": "code",
   "execution_count": 17,
   "id": "93db1b14",
   "metadata": {},
   "outputs": [],
   "source": [
    "y = df4[\"Artist\"]\n",
    "X = df4[\"Lyric\"]\n",
    "X_train, X_test, y_train, y_test = train_test_split(X, y, test_size=0.3, random_state=42) "
   ]
  },
  {
   "cell_type": "markdown",
   "id": "d48b04ba",
   "metadata": {},
   "source": [
    "### Keep Stop Words - NB"
   ]
  },
  {
   "cell_type": "code",
   "execution_count": 218,
   "id": "1a7b5a67",
   "metadata": {},
   "outputs": [
    {
     "name": "stdout",
     "output_type": "stream",
     "text": [
      "Test accuracy:\n"
     ]
    },
    {
     "data": {
      "text/plain": [
       "0.29750479846449135"
      ]
     },
     "execution_count": 218,
     "metadata": {},
     "output_type": "execute_result"
    }
   ],
   "source": [
    "nb_ks = Pipeline([('vect', CountVectorizer(stop_words= None)),\n",
    "                  ('tfidf', TfidfTransformer()),\n",
    "                  ('clf-nb', MultinomialNB(fit_prior=False))])\n",
    "\n",
    "nb_ks_fit = nb_ks.fit(X_train, y_train)\n",
    "pred_nb_ks = nb_ks_fit.predict(X_test)\n",
    "print(\"Test accuracy:\")\n",
    "np.mean(pred_nb_ks == y_test)"
   ]
  },
  {
   "cell_type": "markdown",
   "id": "d89cefed",
   "metadata": {},
   "source": [
    "### Remove Stop Words - NB"
   ]
  },
  {
   "cell_type": "code",
   "execution_count": 221,
   "id": "764aec26",
   "metadata": {},
   "outputs": [
    {
     "name": "stdout",
     "output_type": "stream",
     "text": [
      "Test accuracy:\n"
     ]
    },
    {
     "data": {
      "text/plain": [
       "0.48240563019833654"
      ]
     },
     "execution_count": 221,
     "metadata": {},
     "output_type": "execute_result"
    }
   ],
   "source": [
    "nb_rs = Pipeline([('vect', CountVectorizer(stop_words= 'english')),\n",
    "                  ('tfidf', TfidfTransformer()),\n",
    "                  ('clf-nb', MultinomialNB(fit_prior=False))])\n",
    "\n",
    "nb_rs_fit = nb_rs.fit(X_train, y_train)\n",
    "pred_nb_rs = nb_rs_fit.predict(X_test)\n",
    "print(\"Test accuracy:\")\n",
    "np.mean(pred_nb_rs == y_test)\n",
    "# Removing stop words increases accuracy"
   ]
  },
  {
   "cell_type": "markdown",
   "id": "639ea780",
   "metadata": {},
   "source": [
    "### Remove Stop Words & Apply Stemming - NB"
   ]
  },
  {
   "cell_type": "code",
   "execution_count": 20,
   "id": "9f318b8a",
   "metadata": {},
   "outputs": [
    {
     "data": {
      "text/plain": [
       "0.4484304932735426"
      ]
     },
     "execution_count": 20,
     "metadata": {},
     "output_type": "execute_result"
    }
   ],
   "source": [
    "# nltk.download('stopwords')\n",
    "      \n",
    "stemmer = SnowballStemmer(\"english\", ignore_stopwords = True)\n",
    "        \n",
    "class StemmedCountVectorizer(CountVectorizer):\n",
    "    def build_analyzer(self):\n",
    "        analyzer = super(StemmedCountVectorizer, self).build_analyzer()\n",
    "        return lambda doc: ([stemmer.stem(w) for w in analyzer(doc)])\n",
    "    \n",
    "stem_count_vect = StemmedCountVectorizer(stop_words='english')\n",
    "\n",
    "nb_stem = Pipeline([('vect', stem_count_vect),\n",
    "                    ('tfidf', TfidfTransformer()),\n",
    "                    ('clf-nb', MultinomialNB(fit_prior=False))])\n",
    "\n",
    "nb_stem_fit = nb_stem.fit(X_train, y_train)\n",
    "pred_nb_stem = nb_stem_fit.predict(X_test)\n",
    "print(\"Test accuracy:\")\n",
    "np.mean(pred_nb_stem == y_test) \n",
    "# Applying stemming decreases model accuracy"
   ]
  },
  {
   "cell_type": "markdown",
   "id": "aea07009",
   "metadata": {},
   "source": [
    "### Grid Search - NB"
   ]
  },
  {
   "cell_type": "code",
   "execution_count": 166,
   "id": "0a213798",
   "metadata": {},
   "outputs": [
    {
     "data": {
      "text/plain": [
       "0.7077069357536127"
      ]
     },
     "execution_count": 166,
     "metadata": {},
     "output_type": "execute_result"
    },
    {
     "data": {
      "text/plain": [
       "{'clf-nb__alpha': 0.001, 'tfidf__use_idf': False, 'vect__ngram_range': (1, 2)}"
      ]
     },
     "execution_count": 166,
     "metadata": {},
     "output_type": "execute_result"
    },
    {
     "name": "stdout",
     "output_type": "stream",
     "text": [
      "Naive Bayes Model Accuracy:\n"
     ]
    },
    {
     "data": {
      "text/plain": [
       "0.7293666026871402"
      ]
     },
     "execution_count": 166,
     "metadata": {},
     "output_type": "execute_result"
    }
   ],
   "source": [
    "# Grid search (remove stop words, no stemming)\n",
    "\n",
    "parameters = {'vect__ngram_range': [(1, 1), (1, 2)],\n",
    "              'tfidf__use_idf': (True, False),\n",
    "              'clf-nb__alpha': (1e-2, 1e-3)}\n",
    "\n",
    "random.seed(40)\n",
    "nb_gs = GridSearchCV(nb_rs, parameters, n_jobs = -1)\n",
    "nb_gs_fit = nb_gs.fit(X_train, y_train)\n",
    "\n",
    "nb_gs_fit.best_score_\n",
    "nb_gs_fit.best_params_\n",
    "\n",
    "pred_nb_gs = nb_gs_fit.predict(X_test)\n",
    "print(\"Naive Bayes Model Accuracy:\")\n",
    "np.mean(pred_nb_gs == y_test)"
   ]
  },
  {
   "cell_type": "markdown",
   "id": "cb2f1cea",
   "metadata": {},
   "source": [
    "### Test With an Unknown Lyric - NB"
   ]
  },
  {
   "cell_type": "code",
   "execution_count": 203,
   "id": "9f8b762f",
   "metadata": {},
   "outputs": [
    {
     "data": {
      "text/plain": [
       "[('Taylor Swift', 0.26576097408695787),\n",
       " ('Selena Gomez', 0.1504398854846945),\n",
       " ('Drake', 0.10393744611907603),\n",
       " ('Eminem', 0.0856905116600786),\n",
       " ('Ed Sheeran', 0.08160639167809652)]"
      ]
     },
     "execution_count": 203,
     "metadata": {},
     "output_type": "execute_result"
    }
   ],
   "source": [
    "X_trial = [\"I have this thing where I get older\"] # From Taylor Swift - Anti-Hero\n",
    "probs_nb_gs_trial = nb_gs_fit.predict_proba(X_trial)\n",
    "\n",
    "# Top 5 predictions\n",
    "sorted(zip(calibrator.classes_, probs_nb_gs_trial[0]), key=lambda x: x[1], reverse=True)[:5]"
   ]
  },
  {
   "cell_type": "markdown",
   "id": "c86c9244",
   "metadata": {},
   "source": [
    "### Top-k Accuracy - NB"
   ]
  },
  {
   "cell_type": "code",
   "execution_count": 207,
   "id": "f90448fe",
   "metadata": {},
   "outputs": [
    {
     "name": "stdout",
     "output_type": "stream",
     "text": [
      "Top 1 Accuracy - NB: 0.7293666026871402\n",
      "Top 2 Accuracy - NB: 0.7933461292386437\n",
      "Top 3 Accuracy - NB: 0.8234165067178503\n",
      "Top 4 Accuracy - NB: 0.8522072936660269\n",
      "Top 5 Accuracy - NB: 0.8752399232245681\n"
     ]
    }
   ],
   "source": [
    "probs_nb_gs_test = nb_gs_fit.predict_proba(X_test)\n",
    "for k in range(1,6):\n",
    "    accu_nb = top_k_accuracy_score(y_test, probs_nb_gs_test, k=k)\n",
    "    print(\"Top\", k, \"Accuracy - NB:\", accu_nb)\n",
    "    \n",
    "# Model accuracy increases with a higher k"
   ]
  },
  {
   "cell_type": "markdown",
   "id": "27dc0fea",
   "metadata": {},
   "source": [
    "### Confusion Matrix - Multi-Class Classification - NB"
   ]
  },
  {
   "cell_type": "code",
   "execution_count": 169,
   "id": "4e548dbd",
   "metadata": {},
   "outputs": [
    {
     "data": {
      "image/png": "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\n",
      "text/plain": [
       "<Figure size 1080x1080 with 2 Axes>"
      ]
     },
     "metadata": {
      "needs_background": "light"
     },
     "output_type": "display_data"
    }
   ],
   "source": [
    "plt.rcParams[\"figure.figsize\"] = (15,15)\n",
    "\n",
    "model_nb = nb_gs_fit\n",
    "y_pred_nb = pred_nb_gs\n",
    "\n",
    "conf_mat = skm.confusion_matrix(y_test, y_pred_nb, labels = model_nb.classes_)\n",
    "disp = skm.ConfusionMatrixDisplay(confusion_matrix = conf_mat, display_labels = model_nb.classes_)\n",
    "disp.plot()\n",
    "plt.title(\"Naive Bayes Classifier (Remove Stop Words, No Stemming)\", font = {'size' : 20}, \n",
    "         fontweight='bold')\n",
    "plt.xlabel(\"Predicted Label\", font = {'size' : 20}, fontweight='bold')\n",
    "plt.ylabel(\"True Label\", font = {'size' : 20}, fontweight='bold')\n",
    "plt.xticks(rotation = 45, font = {'size' : 12})\n",
    "plt.yticks(font = {'size' : 12})\n",
    "plt.savefig(\"Confusion Matrix for NB.png\", dpi = 100)\n",
    "plt.show();"
   ]
  },
  {
   "cell_type": "markdown",
   "id": "1acd5f43",
   "metadata": {},
   "source": [
    "### Model Performance - NB"
   ]
  },
  {
   "cell_type": "code",
   "execution_count": 170,
   "id": "86aacff8",
   "metadata": {},
   "outputs": [
    {
     "name": "stdout",
     "output_type": "stream",
     "text": [
      "Artists:\n"
     ]
    },
    {
     "data": {
      "text/plain": [
       "array(['Nicki Minaj', 'Post Malone', 'Katy Perry', 'Coldplay', 'Beyoncé',\n",
       "       'Justin Bieber', 'Eminem', 'Taylor Swift', 'Rihanna', 'Lady Gaga',\n",
       "       'Drake', 'Ed Sheeran', 'Maroon 5', 'Billie Eilish', 'Dua Lipa',\n",
       "       'Ariana Grande', 'Selena Gomez', 'BTS'], dtype=object)"
      ]
     },
     "execution_count": 170,
     "metadata": {},
     "output_type": "execute_result"
    },
    {
     "name": "stdout",
     "output_type": "stream",
     "text": [
      "Overall accuracy: 0.73\n",
      "\n",
      "Ariana Grande\n",
      "Accuracy: 0.9558541266794626\n",
      "Precision: 0.6559139784946236\n",
      "Recall: 0.6224489795918368\n",
      "AUC: 0.8003029880894338\n",
      "BTS\n",
      "Accuracy: 0.9974408189379399\n",
      "Precision: 0.9512195121951219\n",
      "Recall: 0.9512195121951219\n",
      "AUC: 0.9749527258741708\n",
      "Beyoncé\n",
      "Accuracy: 0.9609724888035829\n",
      "Precision: 0.6771653543307087\n",
      "Recall: 0.8113207547169812\n",
      "AUC: 0.8915903704950726\n",
      "Billie Eilish\n",
      "Accuracy: 0.9846449136276392\n",
      "Precision: 0.7777777777777778\n",
      "Recall: 0.6363636363636364\n",
      "AUC: 0.8155485067927464\n",
      "Coldplay\n",
      "Accuracy: 0.9769673704414588\n",
      "Precision: 0.8701298701298701\n",
      "Recall: 0.7204301075268817\n",
      "AUC: 0.8568136932192232\n",
      "Drake\n",
      "Accuracy: 0.9603326935380678\n",
      "Precision: 0.7295597484276729\n",
      "Recall: 0.8592592592592593\n",
      "AUC: 0.9145736072206659\n",
      "Dua Lipa\n",
      "Accuracy: 0.9744081893793985\n",
      "Precision: 0.7169811320754716\n",
      "Recall: 0.6031746031746031\n",
      "AUC: 0.7965873015873016\n",
      "Ed Sheeran\n",
      "Accuracy: 0.9648112603966731\n",
      "Precision: 0.6235294117647059\n",
      "Recall: 0.6973684210526315\n",
      "AUC: 0.8379242912257104\n",
      "Eminem\n",
      "Accuracy: 0.982725527831094\n",
      "Precision: 0.8493975903614458\n",
      "Recall: 0.986013986013986\n",
      "AUC: 0.9842041761055845\n",
      "Justin Bieber\n",
      "Accuracy: 0.9430582213691618\n",
      "Precision: 0.593103448275862\n",
      "Recall: 0.7413793103448276\n",
      "AUC: 0.8503026475704788\n",
      "Katy Perry\n",
      "Accuracy: 0.9699296225207934\n",
      "Precision: 0.7755102040816326\n",
      "Recall: 0.5135135135135135\n",
      "AUC: 0.7530630025593088\n",
      "Lady Gaga\n",
      "Accuracy: 0.9628918746001279\n",
      "Precision: 0.8522727272727273\n",
      "Recall: 0.625\n",
      "AUC: 0.8079954954954954\n",
      "Maroon 5\n",
      "Accuracy: 0.9731285988483686\n",
      "Precision: 0.6129032258064516\n",
      "Recall: 0.6785714285714286\n",
      "AUC: 0.831322874206086\n",
      "Nicki Minaj\n",
      "Accuracy: 0.9756877799104287\n",
      "Precision: 0.7903225806451613\n",
      "Recall: 0.6621621621621622\n",
      "AUC: 0.8267157352113699\n",
      "Post Malone\n",
      "Accuracy: 0.9840051183621241\n",
      "Precision: 0.7222222222222222\n",
      "Recall: 0.6341463414634146\n",
      "AUC: 0.813788019614756\n",
      "Rihanna\n",
      "Accuracy: 0.9648112603966731\n",
      "Precision: 0.8191489361702128\n",
      "Recall: 0.6695652173913044\n",
      "AUC: 0.8289124429497959\n",
      "Selena Gomez\n",
      "Accuracy: 0.982085732565579\n",
      "Precision: 0.68\n",
      "Recall: 0.4594594594594595\n",
      "AUC: 0.7271084977506996\n",
      "Taylor Swift\n",
      "Accuracy: 0.944977607165707\n",
      "Precision: 0.6363636363636364\n",
      "Recall: 0.8015267175572519\n",
      "AUC: 0.8798136381082348\n",
      "\n",
      "More Results:\n",
      "               precision    recall  f1-score   support\n",
      "\n",
      "Ariana Grande       0.66      0.62      0.64        98\n",
      "          BTS       0.95      0.95      0.95        41\n",
      "      Beyoncé       0.68      0.81      0.74       106\n",
      "Billie Eilish       0.78      0.64      0.70        44\n",
      "     Coldplay       0.87      0.72      0.79        93\n",
      "        Drake       0.73      0.86      0.79       135\n",
      "     Dua Lipa       0.72      0.60      0.66        63\n",
      "   Ed Sheeran       0.62      0.70      0.66        76\n",
      "       Eminem       0.85      0.99      0.91       143\n",
      "Justin Bieber       0.59      0.74      0.66       116\n",
      "   Katy Perry       0.78      0.51      0.62        74\n",
      "    Lady Gaga       0.85      0.62      0.72       120\n",
      "     Maroon 5       0.61      0.68      0.64        56\n",
      "  Nicki Minaj       0.79      0.66      0.72        74\n",
      "  Post Malone       0.72      0.63      0.68        41\n",
      "      Rihanna       0.82      0.67      0.74       115\n",
      " Selena Gomez       0.68      0.46      0.55        37\n",
      " Taylor Swift       0.64      0.80      0.71       131\n",
      "\n",
      "     accuracy                           0.73      1563\n",
      "    macro avg       0.74      0.70      0.71      1563\n",
      " weighted avg       0.74      0.73      0.73      1563\n",
      "\n"
     ]
    }
   ],
   "source": [
    "print('Artists:')\n",
    "y_test.unique()\n",
    "\n",
    "print('Overall accuracy: {:.2f}\\n'.format(skm.accuracy_score(y_test, y_pred_nb)))\n",
    "\n",
    "for artist in model_nb.classes_:\n",
    "    y_art_true = (y_test == artist).values*1\n",
    "    y_art_pred = (y_pred_nb == artist)*1\n",
    "    print(artist)\n",
    "    print(\"Accuracy:\", skm.accuracy_score(y_art_true, y_art_pred))\n",
    "    print(\"Precision:\",skm.precision_score(y_art_true, y_art_pred))\n",
    "    print(\"Recall:\", skm.recall_score(y_art_true, y_art_pred))\n",
    "    fpr, tpr, thresholds = skm.roc_curve(y_art_true, y_art_pred)\n",
    "    print(\"AUC:\", skm.auc(fpr, tpr))\n",
    "    \n",
    "print(\"\\nMore Results:\") \n",
    "print(skm.classification_report(y_test, y_pred_nb, target_names=model_nb.classes_))"
   ]
  },
  {
   "cell_type": "markdown",
   "id": "0ef5d081",
   "metadata": {},
   "source": [
    "The artist with the highest accuracy (0.997): BTS.<br>\n",
    "The artist with the highest AUC (0.975): BTS.<br>\n",
    "The artist with the highest precision (0.951): BTS.<br>\n",
    "The artist with the highest recall (0.986): Eminem.<br>\n",
    "The artist with the highest F1 score (0.95): BTS.<br>"
   ]
  },
  {
   "cell_type": "markdown",
   "id": "9ff6031c",
   "metadata": {},
   "source": [
    "# 4. NLP & ML Model Building - SVM"
   ]
  },
  {
   "cell_type": "markdown",
   "id": "3104729e",
   "metadata": {},
   "source": [
    "### Keep Stop Words - SVM"
   ]
  },
  {
   "cell_type": "code",
   "execution_count": 214,
   "id": "3ec7d866",
   "metadata": {},
   "outputs": [
    {
     "name": "stdout",
     "output_type": "stream",
     "text": [
      "Test accuracy:\n"
     ]
    },
    {
     "data": {
      "text/plain": [
       "0.72808701215611"
      ]
     },
     "execution_count": 214,
     "metadata": {},
     "output_type": "execute_result"
    }
   ],
   "source": [
    "svm_ks = Pipeline([('vect', CountVectorizer(stop_words= None)),\n",
    "                   ('tfidf', TfidfTransformer()),\n",
    "                   ('clf-svm', SGDClassifier(loss='hinge', penalty='l2', \n",
    "                                             alpha=1e-3, random_state=42))])\n",
    "svm_ks_fit = svm_ks.fit(X_train, y_train)\n",
    "pred_svm_ks = svm_ks_fit.predict(X_test)\n",
    "print(\"Test accuracy:\")\n",
    "np.mean(pred_svm_ks == y_test)"
   ]
  },
  {
   "cell_type": "markdown",
   "id": "dc2282c6",
   "metadata": {},
   "source": [
    "### Remove Stop Words - SVM"
   ]
  },
  {
   "cell_type": "code",
   "execution_count": 216,
   "id": "f5f4dacf",
   "metadata": {},
   "outputs": [
    {
     "name": "stdout",
     "output_type": "stream",
     "text": [
      "Test accuracy:\n"
     ]
    },
    {
     "data": {
      "text/plain": [
       "0.7037747920665387"
      ]
     },
     "execution_count": 216,
     "metadata": {},
     "output_type": "execute_result"
    }
   ],
   "source": [
    "svm_rs = Pipeline([('vect', CountVectorizer(stop_words= 'english')),\n",
    "                   ('tfidf', TfidfTransformer()),\n",
    "                   ('clf-svm', SGDClassifier(loss='hinge', penalty='l2',\n",
    "                                             alpha=1e-3, random_state=42))])\n",
    "svm_rs_fit = svm_rs.fit(X_train, y_train)\n",
    "pred_svm_rs = svm_rs_fit.predict(X_test)\n",
    "print(\"Test accuracy:\")\n",
    "np.mean(pred_svm_rs == y_test)\n",
    "# Removing stop words reduces model accuray"
   ]
  },
  {
   "cell_type": "markdown",
   "id": "c76f7cfc",
   "metadata": {},
   "source": [
    "### Keep Stop Words & Add Stemming - SVM"
   ]
  },
  {
   "cell_type": "code",
   "execution_count": 29,
   "id": "03de0450",
   "metadata": {},
   "outputs": [
    {
     "data": {
      "text/plain": [
       "0.712363869314542"
      ]
     },
     "execution_count": 29,
     "metadata": {},
     "output_type": "execute_result"
    }
   ],
   "source": [
    "stemmer = SnowballStemmer(\"english\", ignore_stopwords=True)\n",
    "class StemmedCountVectorizer(CountVectorizer):\n",
    "    def build_analyzer(self):\n",
    "        analyzer = super(StemmedCountVectorizer, self).build_analyzer()\n",
    "        return lambda doc: ([stemmer.stem(w) for w in analyzer(doc)])\n",
    "\n",
    "stemmed_count_vect = StemmedCountVectorizer(stop_words = None) # or = None, not to remove stop words\n",
    "svm_stem = Pipeline([('vect', stemmed_count_vect),\n",
    "                     ('tfidf', TfidfTransformer()),\n",
    "                     ('clf-svm', SGDClassifier(loss='hinge', penalty='l2',\n",
    "                                               alpha=1e-3, random_state=42))])\n",
    "\n",
    "svm_stem_fit = svm_stem.fit(X_train, y_train)\n",
    "pred_svm_stem = svm_stem_fit.predict(X_test)\n",
    "np.mean(pred_svm_stem == y_test)\n",
    "# Apply stemming reduces model accuracy due to information loss"
   ]
  },
  {
   "cell_type": "markdown",
   "id": "b41f5ce0",
   "metadata": {},
   "source": [
    "### Grid Search - SVM"
   ]
  },
  {
   "cell_type": "code",
   "execution_count": 174,
   "id": "22c06594",
   "metadata": {},
   "outputs": [
    {
     "data": {
      "text/plain": [
       "0.7112772234436364"
      ]
     },
     "execution_count": 174,
     "metadata": {},
     "output_type": "execute_result"
    },
    {
     "data": {
      "text/plain": [
       "{'clf-svm__alpha': 0.0001, 'tfidf__use_idf': True, 'vect__ngram_range': (1, 2)}"
      ]
     },
     "execution_count": 174,
     "metadata": {},
     "output_type": "execute_result"
    },
    {
     "data": {
      "text/plain": [
       "0.72808701215611"
      ]
     },
     "execution_count": 174,
     "metadata": {},
     "output_type": "execute_result"
    }
   ],
   "source": [
    "# Grid search (keep stop words, no stemming)\n",
    "\n",
    "parameters_svm = {'vect__ngram_range': [(1, 1), (1, 2)],\n",
    "                  'tfidf__use_idf': (True, False),\n",
    "                  'clf-svm__alpha': (1e-3, 1e-4)} # regularization\n",
    "random.seed(40)\n",
    "svm_gs = GridSearchCV(svm_rs, parameters_svm, n_jobs = -1)\n",
    "svm_gs_fit = svm_gs.fit(X_train, y_train)\n",
    "svm_gs_fit.best_score_\n",
    "\n",
    "# Find selected hyperparameters\n",
    "svm_gs_fit.best_params_\n",
    "\n",
    "pred_svm_gs = svm_gs_fit.predict(X_test)\n",
    "np.mean(pred_svm_gs == y_test)"
   ]
  },
  {
   "cell_type": "markdown",
   "id": "6696407a",
   "metadata": {},
   "source": [
    "### Test With an Unknown Lyric - SVM"
   ]
  },
  {
   "cell_type": "code",
   "execution_count": 202,
   "id": "be9280a2",
   "metadata": {},
   "outputs": [
    {
     "name": "stdout",
     "output_type": "stream",
     "text": [
      "Top 5 predicted probabilities:\n"
     ]
    },
    {
     "data": {
      "text/plain": [
       "[('Coldplay', 0.1655233191284785),\n",
       " ('Lady Gaga', 0.1610105853730224),\n",
       " ('Rihanna', 0.14831648841148518),\n",
       " ('Nicki Minaj', 0.13059322771428755),\n",
       " ('Taylor Swift', 0.08163889666986097)]"
      ]
     },
     "execution_count": 202,
     "metadata": {},
     "output_type": "execute_result"
    }
   ],
   "source": [
    "# Test a lyric that is not included in the training data\n",
    "calibrator = CalibratedClassifierCV(svm_gs_fit, cv='prefit')\n",
    "svm_gs_cali = calibrator.fit(X_train, y_train)\n",
    "\n",
    "X_trial = [\"I have this thing where I get older\"] # From Taylor Swift - Anti-Hero\n",
    "probs_y_trial = svm_gs_cali.predict_proba(X_trial)\n",
    "print(\"Top 5 predicted probabilities:\")\n",
    "sorted(zip(calibrator.classes_, probs_y_trial[0]), key=lambda x: x[1], reverse=True)[:5]"
   ]
  },
  {
   "cell_type": "markdown",
   "id": "334c364d",
   "metadata": {},
   "source": [
    "### Top-k Accuracy - SVM"
   ]
  },
  {
   "cell_type": "code",
   "execution_count": 208,
   "id": "7e89bd43",
   "metadata": {},
   "outputs": [
    {
     "name": "stdout",
     "output_type": "stream",
     "text": [
      "Top 1 Accuracy - SVM: 0.7172104926423545\n",
      "Top 2 Accuracy - SVM: 0.7888675623800384\n",
      "Top 3 Accuracy - SVM: 0.8221369161868202\n",
      "Top 4 Accuracy - SVM: 0.8509277031349968\n",
      "Top 5 Accuracy - SVM: 0.872040946896993\n"
     ]
    }
   ],
   "source": [
    "calibrator = CalibratedClassifierCV(svm_gs_fit, cv='prefit')\n",
    "svm_gs_cali = calibrator.fit(X_train, y_train)\n",
    "probs_svm_gs_test = svm_gs_cali.predict_proba(X_test)\n",
    "\n",
    "for k in range(1,6):\n",
    "    accu_svm = top_k_accuracy_score(y_test, probs_svm_gs_test, k=k)\n",
    "    print(\"Top\", k, \"Accuracy - SVM:\", accu_svm)\n",
    "# Model accuracy increases with a higher k   "
   ]
  },
  {
   "cell_type": "markdown",
   "id": "d0897e2b",
   "metadata": {},
   "source": [
    "### Confusion Matrix - Multi-Class Classification - SVM"
   ]
  },
  {
   "cell_type": "code",
   "execution_count": 205,
   "id": "466560a8",
   "metadata": {},
   "outputs": [
    {
     "data": {
      "image/png": "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\n",
      "text/plain": [
       "<Figure size 1080x1080 with 2 Axes>"
      ]
     },
     "metadata": {
      "needs_background": "light"
     },
     "output_type": "display_data"
    }
   ],
   "source": [
    "plt.rcParams[\"figure.figsize\"] = (15,15)\n",
    "\n",
    "# Confusion matrix:\n",
    "model_svm = svm_gs_fit\n",
    "y_pred_svm = pred_svm_gs\n",
    "\n",
    "conf_mat_svm = skm.confusion_matrix(y_test, y_pred_svm, labels = model_svm.classes_)\n",
    "disp_svm = skm.ConfusionMatrixDisplay(confusion_matrix = conf_mat_svm, \n",
    "                                  display_labels = model_svm.classes_)\n",
    "disp_svm.plot()\n",
    "plt.title(\"SVM Classifier (Keep Stop Words, No Stemming)\", font = {'size' : 20}, \n",
    "         fontweight='bold')\n",
    "plt.xlabel(\"Predicted Label\", font = {'size' : 20}, fontweight='bold')\n",
    "plt.ylabel(\"True Label\", font = {'size' : 20}, fontweight='bold')\n",
    "plt.xticks(rotation = 45, font = {'size' : 12})\n",
    "plt.yticks(font = {'size' : 12})\n",
    "plt.savefig(\"Confusion Matrix for SVM.png\", dpi = 100)\n",
    "plt.show();"
   ]
  },
  {
   "cell_type": "markdown",
   "id": "c2d4922b",
   "metadata": {},
   "source": [
    "### Model Performance - SVM"
   ]
  },
  {
   "cell_type": "code",
   "execution_count": 206,
   "id": "3e021822",
   "metadata": {},
   "outputs": [
    {
     "name": "stdout",
     "output_type": "stream",
     "text": [
      "Artists:\n"
     ]
    },
    {
     "data": {
      "text/plain": [
       "array(['Nicki Minaj', 'Post Malone', 'Katy Perry', 'Coldplay', 'Beyoncé',\n",
       "       'Justin Bieber', 'Eminem', 'Taylor Swift', 'Rihanna', 'Lady Gaga',\n",
       "       'Drake', 'Ed Sheeran', 'Maroon 5', 'Billie Eilish', 'Dua Lipa',\n",
       "       'Ariana Grande', 'Selena Gomez', 'BTS'], dtype=object)"
      ]
     },
     "execution_count": 206,
     "metadata": {},
     "output_type": "execute_result"
    },
    {
     "name": "stdout",
     "output_type": "stream",
     "text": [
      "Overall accuracy: 0.73\n",
      "\n",
      "Ariana Grande\n",
      "Accuracy: 0.9513755598208573\n",
      "Precision: 0.625\n",
      "Recall: 0.5612244897959183\n",
      "AUC: 0.7693494462631468\n",
      "BTS\n",
      "Accuracy: 0.9968010236724248\n",
      "Precision: 0.9736842105263158\n",
      "Recall: 0.9024390243902439\n",
      "AUC: 0.9508909970834268\n",
      "Beyoncé\n",
      "Accuracy: 0.9571337172104927\n",
      "Precision: 0.6695652173913044\n",
      "Recall: 0.7264150943396226\n",
      "AUC: 0.8501670530037166\n",
      "Billie Eilish\n",
      "Accuracy: 0.980806142034549\n",
      "Precision: 0.6944444444444444\n",
      "Recall: 0.5681818181818182\n",
      "AUC: 0.7804701059309356\n",
      "Coldplay\n",
      "Accuracy: 0.9705694177863083\n",
      "Precision: 0.7155963302752294\n",
      "Recall: 0.8387096774193549\n",
      "AUC: 0.9088106210226027\n",
      "Drake\n",
      "Accuracy: 0.9628918746001279\n",
      "Precision: 0.7333333333333333\n",
      "Recall: 0.8962962962962963\n",
      "AUC: 0.9327419856831622\n",
      "Dua Lipa\n",
      "Accuracy: 0.980806142034549\n",
      "Precision: 0.8666666666666667\n",
      "Recall: 0.6190476190476191\n",
      "AUC: 0.8075238095238095\n",
      "Ed Sheeran\n",
      "Accuracy: 0.9744081893793985\n",
      "Precision: 0.7195121951219512\n",
      "Recall: 0.7763157894736842\n",
      "AUC: 0.8804242027395321\n",
      "Eminem\n",
      "Accuracy: 0.9859245041586693\n",
      "Precision: 0.8903225806451613\n",
      "Recall: 0.965034965034965\n",
      "AUC: 0.9765315670245248\n",
      "Justin Bieber\n",
      "Accuracy: 0.9526551503518874\n",
      "Precision: 0.6842105263157895\n",
      "Recall: 0.6724137931034483\n",
      "AUC: 0.8237673664895265\n",
      "Katy Perry\n",
      "Accuracy: 0.9616122840690979\n",
      "Precision: 0.6166666666666667\n",
      "Recall: 0.5\n",
      "AUC: 0.7422766957689725\n",
      "Lady Gaga\n",
      "Accuracy: 0.9571337172104927\n",
      "Precision: 0.7676767676767676\n",
      "Recall: 0.6333333333333333\n",
      "AUC: 0.8086971586971587\n",
      "Maroon 5\n",
      "Accuracy: 0.9731285988483686\n",
      "Precision: 0.6166666666666667\n",
      "Recall: 0.6607142857142857\n",
      "AUC: 0.8227260877808322\n",
      "Nicki Minaj\n",
      "Accuracy: 0.9782469609724888\n",
      "Precision: 0.8333333333333334\n",
      "Recall: 0.6756756756756757\n",
      "AUC: 0.8344798794765216\n",
      "Post Malone\n",
      "Accuracy: 0.9846449136276392\n",
      "Precision: 0.7575757575757576\n",
      "Recall: 0.6097560975609756\n",
      "AUC: 0.8022499278869267\n",
      "Rihanna\n",
      "Accuracy: 0.9699296225207934\n",
      "Precision: 0.8617021276595744\n",
      "Recall: 0.7043478260869566\n",
      "AUC: 0.8476849627672352\n",
      "Selena Gomez\n",
      "Accuracy: 0.9801663467690339\n",
      "Precision: 0.59375\n",
      "Recall: 0.5135135135135135\n",
      "AUC: 0.7524972547908328\n",
      "Taylor Swift\n",
      "Accuracy: 0.9379398592450416\n",
      "Precision: 0.5955056179775281\n",
      "Recall: 0.8091603053435115\n",
      "AUC: 0.8794404878672865\n",
      "\n",
      "More Results:\n",
      "               precision    recall  f1-score   support\n",
      "\n",
      "Ariana Grande       0.62      0.56      0.59        98\n",
      "          BTS       0.97      0.90      0.94        41\n",
      "      Beyoncé       0.67      0.73      0.70       106\n",
      "Billie Eilish       0.69      0.57      0.62        44\n",
      "     Coldplay       0.72      0.84      0.77        93\n",
      "        Drake       0.73      0.90      0.81       135\n",
      "     Dua Lipa       0.87      0.62      0.72        63\n",
      "   Ed Sheeran       0.72      0.78      0.75        76\n",
      "       Eminem       0.89      0.97      0.93       143\n",
      "Justin Bieber       0.68      0.67      0.68       116\n",
      "   Katy Perry       0.62      0.50      0.55        74\n",
      "    Lady Gaga       0.77      0.63      0.69       120\n",
      "     Maroon 5       0.62      0.66      0.64        56\n",
      "  Nicki Minaj       0.83      0.68      0.75        74\n",
      "  Post Malone       0.76      0.61      0.68        41\n",
      "      Rihanna       0.86      0.70      0.78       115\n",
      " Selena Gomez       0.59      0.51      0.55        37\n",
      " Taylor Swift       0.60      0.81      0.69       131\n",
      "\n",
      "     accuracy                           0.73      1563\n",
      "    macro avg       0.73      0.70      0.71      1563\n",
      " weighted avg       0.73      0.73      0.73      1563\n",
      "\n"
     ]
    }
   ],
   "source": [
    "print('Artists:')\n",
    "y_test.unique()\n",
    "\n",
    "print('Overall accuracy: {:.2f}\\n'.format(skm.accuracy_score(y_test, y_pred_svm)))\n",
    "\n",
    "for artist in model_svm.classes_:\n",
    "    y_art_true = (y_test == artist).values*1\n",
    "    y_art_pred = (y_pred_svm == artist)*1\n",
    "    print(artist)\n",
    "    print(\"Accuracy:\", skm.accuracy_score(y_art_true, y_art_pred))\n",
    "    print(\"Precision:\",skm.precision_score(y_art_true, y_art_pred))\n",
    "    print(\"Recall:\", skm.recall_score(y_art_true, y_art_pred))\n",
    "    fpr, tpr, thresholds = skm.roc_curve(y_art_true, y_art_pred)\n",
    "    print(\"AUC:\", skm.auc(fpr, tpr))\n",
    "\n",
    "print(\"\\nMore Results:\") \n",
    "print(skm.classification_report(y_test, y_pred_svm, target_names=model_svm.classes_))"
   ]
  },
  {
   "cell_type": "markdown",
   "id": "828a81d5",
   "metadata": {},
   "source": [
    "The artist with the highest accuracy (0.997): BTS.<br>\n",
    "The artist with the highest AUC (0.977): Eminem (NB model: BTS) <br>\n",
    "The artist with the highest precision (0.974): BTS.<br>\n",
    "The artist with the highest recall (0.965): Eminem.<br>\n",
    "The artist with the highest F1 score (0.94): BTS.<br>"
   ]
  },
  {
   "cell_type": "markdown",
   "id": "5d601b23",
   "metadata": {},
   "source": [
    "# 5. Model Accuracy vs Number of Artists"
   ]
  },
  {
   "cell_type": "code",
   "execution_count": 39,
   "id": "d323eeb5",
   "metadata": {},
   "outputs": [
    {
     "name": "stdout",
     "output_type": "stream",
     "text": [
      "Iteration: 2\n",
      "Iteration: 3\n",
      "Iteration: 4\n",
      "Iteration: 5\n",
      "Iteration: 6\n",
      "Iteration: 7\n",
      "Iteration: 8\n",
      "Iteration: 9\n",
      "Iteration: 10\n",
      "Iteration: 11\n",
      "Iteration: 12\n",
      "Iteration: 13\n",
      "Iteration: 14\n",
      "Iteration: 15\n",
      "Iteration: 16\n",
      "Iteration: 17\n",
      "Iteration: 18\n",
      "NB_accuracy:\n"
     ]
    },
    {
     "data": {
      "text/plain": [
       "{2: 0.9300757508250035,\n",
       " 3: 0.8849493432826767,\n",
       " 4: 0.8484690598725418,\n",
       " 5: 0.82021813559566,\n",
       " 6: 0.8277203326381359,\n",
       " 7: 0.7698967403826982,\n",
       " 8: 0.7928966441918698,\n",
       " 9: 0.7585237865003582,\n",
       " 10: 0.7758453819820806,\n",
       " 11: 0.7711649267029433,\n",
       " 12: 0.7603454330490007,\n",
       " 13: 0.7490431860102317,\n",
       " 14: 0.7378714891240319,\n",
       " 15: 0.747944037685129,\n",
       " 16: 0.7373343328437608,\n",
       " 17: 0.7230483029187187,\n",
       " 18: 0.7217343466959638}"
      ]
     },
     "execution_count": 39,
     "metadata": {},
     "output_type": "execute_result"
    },
    {
     "name": "stdout",
     "output_type": "stream",
     "text": [
      "SVM_accuracy:\n"
     ]
    },
    {
     "data": {
      "text/plain": [
       "{2: 0.9091441725404363,\n",
       " 3: 0.8616477588699812,\n",
       " 4: 0.8518267354224947,\n",
       " 5: 0.8191353668807295,\n",
       " 6: 0.8276616078060588,\n",
       " 7: 0.7758442911769728,\n",
       " 8: 0.7990487336033851,\n",
       " 9: 0.7626775349176196,\n",
       " 10: 0.7803970060713545,\n",
       " 11: 0.7742728505302309,\n",
       " 12: 0.7661588196209265,\n",
       " 13: 0.7555073368372865,\n",
       " 14: 0.7457569527882291,\n",
       " 15: 0.7548210889354887,\n",
       " 16: 0.751059092261082,\n",
       " 17: 0.735125694062968,\n",
       " 18: 0.7308282141485577}"
      ]
     },
     "execution_count": 39,
     "metadata": {},
     "output_type": "execute_result"
    }
   ],
   "source": [
    "NB_accuracy = {}\n",
    "SVM_accuracy = {}\n",
    "for k in range(2, 19):\n",
    "    print(\"Iteration:\", k)\n",
    "    NB_accuracy_temp = []\n",
    "    SVM_accuracy_temp = []\n",
    "    for i in range(5):\n",
    "        selected = random.sample([DK,LG,TS,MR,CP,AG,BY,BE,BTS,DL,ES,EM,JB,KP,NM,PM,RH,SG], k=k)\n",
    "        df = pd.concat(selected)\n",
    "        \n",
    "        ############################################ \n",
    "        #       Same data preprocessing steps      #\n",
    "        ############################################\n",
    "\n",
    "        # Drop row with duplicate lyrics\n",
    "        df = df.drop_duplicates('Lyric')\n",
    "\n",
    "        # Drop rows with no lyrics\n",
    "        df = df[df['Lyric'].notna()]\n",
    "\n",
    "        # Drop rows with non-English lyrics\n",
    "        df['en_prob'] = df['Lyric'].map(get_eng_prob)\n",
    "        df = df.loc[df['en_prob'] >= 0.5]\n",
    "       \n",
    "        ############################################ \n",
    "        #               Split train-test           #\n",
    "        ############################################\n",
    "        \n",
    "        y = df[\"Artist\"]\n",
    "        X = df[\"Lyric\"]\n",
    "        X_train, X_test, y_train, y_test = train_test_split(X, y, test_size=0.3, random_state=42)\n",
    "        \n",
    "        ############################################\n",
    "        #                  Naive Bays              #\n",
    "        ############################################\n",
    "        \n",
    "        # Build pipeline for 1. Term-doc count matrix, 2. TF-IDF, 3. Naive Bayes classification\n",
    "        nb_rs = Pipeline([('vect', CountVectorizer(stop_words= 'english', ngram_range = (1, 2))),\n",
    "                          ('tfidf', TfidfTransformer(use_idf = False)),\n",
    "                          ('clf-nb', MultinomialNB(fit_prior=False, alpha = 1e-3))])\n",
    "        # Fit model\n",
    "        nb_rs_fit = nb_rs.fit(X_train, y_train)\n",
    "        \n",
    "        # Prediction\n",
    "        pred_nb_rs = nb_rs_fit.predict(X_test)\n",
    "\n",
    "        NB_accuracy_temp.append(np.mean(pred_nb_rs == y_test))\n",
    "\n",
    "        ############################################\n",
    "        #                     SVM                  #\n",
    "        ############################################\n",
    "        \n",
    "        # Build pipeline\n",
    "        svm_ks = Pipeline([('vect', CountVectorizer(stop_words= None, ngram_range = (1, 2))),\n",
    "                           ('tfidf', TfidfTransformer(use_idf = True)),\n",
    "                           ('clf-svm', SGDClassifier(loss='hinge', penalty='l2', \n",
    "                                             random_state=42, alpha = 1e-4))]) # regularization\n",
    "        # Fit model\n",
    "        svm_ks_fit = svm_ks.fit(X_train, y_train)\n",
    "\n",
    "        # Prediction\n",
    "        pred_svm_ks = svm_ks_fit.predict(X_test)\n",
    "        \n",
    "        SVM_accuracy_temp.append(np.mean(pred_svm_ks == y_test))\n",
    "        \n",
    "    NB_accuracy[k] = np.mean(NB_accuracy_temp)\n",
    "    SVM_accuracy[k] = np.mean(SVM_accuracy_temp)\n",
    "    \n",
    "# In[1]:\n",
    "\n",
    "print(\"NB_accuracy:\")\n",
    "NB_accuracy\n",
    "\n",
    "# In[2]:\n",
    "\n",
    "print(\"SVM_accuracy:\")\n",
    "SVM_accuracy"
   ]
  },
  {
   "cell_type": "markdown",
   "id": "7776d36b",
   "metadata": {},
   "source": [
    "### Plot - Accuracy vs # of Artists"
   ]
  },
  {
   "cell_type": "code",
   "execution_count": 40,
   "id": "37f23804",
   "metadata": {},
   "outputs": [
    {
     "data": {
      "image/png": "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\n",
      "text/plain": [
       "<Figure size 720x432 with 1 Axes>"
      ]
     },
     "metadata": {
      "needs_background": "light"
     },
     "output_type": "display_data"
    }
   ],
   "source": [
    "plt.rcParams[\"figure.figsize\"] = (10,6)\n",
    "plt.plot(NB_accuracy.keys(), NB_accuracy.values(), \"-o\", label=\"Naive Bayes\")\n",
    "plt.plot(SVM_accuracy.keys(), SVM_accuracy.values(), \"-o\", label=\"Support Vector Machine\")\n",
    "plt.title(\"Accuracy for Naive Bayes and SVM Against Number of Artists\", font = {'size' : 20},\n",
    "          fontweight='bold')\n",
    "plt.xlabel(\"Number of Artists\", font = {'size' : 20}, fontweight='bold')\n",
    "plt.ylabel(\"Model Accuracy\", font = {'size' : 20}, fontweight='bold')\n",
    "plt.xticks(font = {'size' : 12})\n",
    "plt.yticks(font = {'size' : 12})\n",
    "plt.legend()\n",
    "plt.savefig(\"Accuracy_against_num_artists.png\")\n",
    "plt.show();"
   ]
  },
  {
   "cell_type": "markdown",
   "id": "17144e1a",
   "metadata": {},
   "source": [
    "Both model accuracy shows an decreasing trend with an increasing number of artists. The model accuracy is in the range of 0.72-0.93 for the Naive Bayes model and 0.73-0.90 for the SVM model. Both models show similar performance, while the SVM model tends to perform slightly better than the NB model when the number of artists increases. In addition, some NLP precedures such as removing stop words and stemming may lower model performance due to information loss, exploring their combinations and effects could improve model performance for individual projects.   "
   ]
  },
 "metadata": {
  "kernelspec": {
   "display_name": "Python 3 (ipykernel)",
   "language": "python",
   "name": "python3"
  },
  "language_info": {
   "codemirror_mode": {
    "name": "ipython",
    "version": 3
   },
   "file_extension": ".py",
   "mimetype": "text/x-python",
   "name": "python",
   "nbconvert_exporter": "python",
   "pygments_lexer": "ipython3",
   "version": "3.9.12"
  }
 },
 "nbformat": 4,
 "nbformat_minor": 5
}
